{
 "cells": [
  {
   "cell_type": "code",
   "execution_count": 1,
   "id": "def2fbb0",
   "metadata": {},
   "outputs": [
    {
     "name": "stderr",
     "output_type": "stream",
     "text": [
      "Downloading file 'face.dat' from 'https://raw.githubusercontent.com/scipy/dataset-face/main/face.dat' to 'C:\\Users\\paulg\\AppData\\Local\\scipy-data\\scipy-data\\Cache'.\n"
     ]
    }
   ],
   "source": [
    "# try to import \"face\" dataset from scipy with scipy 1.10 is the minimum supported version\n",
    "\n",
    "try:\n",
    "    from scipy.datasets import face\n",
    "except ImportError:\n",
    "    from scipy.misc import face\n",
    "\n",
    "img = face()"
   ]
  },
  {
   "cell_type": "code",
   "execution_count": 2,
   "id": "e97b825b",
   "metadata": {},
   "outputs": [
    {
     "data": {
      "text/plain": [
       "numpy.ndarray"
      ]
     },
     "execution_count": 2,
     "metadata": {},
     "output_type": "execute_result"
    }
   ],
   "source": [
    "# type of img\n",
    "type(img)"
   ]
  }
 ],
 "metadata": {
  "kernelspec": {
   "display_name": ".venv",
   "language": "python",
   "name": "python3"
  },
  "language_info": {
   "codemirror_mode": {
    "name": "ipython",
    "version": 3
   },
   "file_extension": ".py",
   "mimetype": "text/x-python",
   "name": "python",
   "nbconvert_exporter": "python",
   "pygments_lexer": "ipython3",
   "version": "3.12.2"
  }
 },
 "nbformat": 4,
 "nbformat_minor": 5
}
