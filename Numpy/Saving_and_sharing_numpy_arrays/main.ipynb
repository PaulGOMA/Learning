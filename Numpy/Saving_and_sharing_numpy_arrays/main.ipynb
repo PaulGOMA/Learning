{
 "cells": [
  {
   "cell_type": "markdown",
   "id": "d261d4ce",
   "metadata": {},
   "source": [
    "## Create arrays"
   ]
  },
  {
   "cell_type": "code",
   "execution_count": 1,
   "id": "8834c0b3",
   "metadata": {},
   "outputs": [],
   "source": [
    "import numpy as np"
   ]
  },
  {
   "cell_type": "code",
   "execution_count": 4,
   "id": "7cede30d",
   "metadata": {},
   "outputs": [
    {
     "name": "stdout",
     "output_type": "stream",
     "text": [
      "[0 1 2 3 4 5 6 7 8 9]\n",
      "[ 0  1  4  9 16 25 36 49 64 81]\n"
     ]
    }
   ],
   "source": [
    "# Create two 1D arrays\n",
    "x = np.arange(10)\n",
    "y = x**2\n",
    "print(x)\n",
    "print(y)"
   ]
  },
  {
   "cell_type": "markdown",
   "id": "4e2e2086",
   "metadata": {},
   "source": [
    "## Save arrays with Numpy's `savez`"
   ]
  },
  {
   "cell_type": "code",
   "execution_count": 5,
   "id": "99c067bd",
   "metadata": {},
   "outputs": [],
   "source": [
    "np.savez('x_y-squared.npz', x_axis=x, y_axis=y)"
   ]
  }
 ],
 "metadata": {
  "kernelspec": {
   "display_name": ".venv",
   "language": "python",
   "name": "python3"
  },
  "language_info": {
   "codemirror_mode": {
    "name": "ipython",
    "version": 3
   },
   "file_extension": ".py",
   "mimetype": "text/x-python",
   "name": "python",
   "nbconvert_exporter": "python",
   "pygments_lexer": "ipython3",
   "version": "3.12.2"
  }
 },
 "nbformat": 4,
 "nbformat_minor": 5
}
