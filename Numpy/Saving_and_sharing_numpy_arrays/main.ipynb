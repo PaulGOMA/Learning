{
 "cells": [
  {
   "cell_type": "markdown",
   "id": "d261d4ce",
   "metadata": {},
   "source": [
    "## Save arrays with Numpy's `savez`"
   ]
  },
  {
   "cell_type": "code",
   "execution_count": 1,
   "id": "8834c0b3",
   "metadata": {},
   "outputs": [],
   "source": [
    "import numpy as np"
   ]
  },
  {
   "cell_type": "code",
   "execution_count": 4,
   "id": "7cede30d",
   "metadata": {},
   "outputs": [
    {
     "name": "stdout",
     "output_type": "stream",
     "text": [
      "[0 1 2 3 4 5 6 7 8 9]\n",
      "[ 0  1  4  9 16 25 36 49 64 81]\n"
     ]
    }
   ],
   "source": [
    "# Create two 1D arrays\n",
    "x = np.arange(10)\n",
    "y = x**2\n",
    "print(x)\n",
    "print(y)"
   ]
  },
  {
   "cell_type": "code",
   "execution_count": 5,
   "id": "99c067bd",
   "metadata": {},
   "outputs": [],
   "source": [
    "np.savez('x_y-squared.npz', x_axis=x, y_axis=y)"
   ]
  },
  {
   "cell_type": "code",
   "execution_count": 6,
   "id": "fd6910c2",
   "metadata": {},
   "outputs": [
    {
     "name": "stdout",
     "output_type": "stream",
     "text": [
      "Variable   Type      Data/Info\n",
      "------------------------------\n",
      "np         module    <module 'numpy' from 'c:\\<...>ges\\\\numpy\\\\__init__.py'>\n"
     ]
    }
   ],
   "source": [
    "# Delete the arrays from memory\n",
    "del x, y\n",
    "%whos"
   ]
  },
  {
   "cell_type": "code",
   "execution_count": 7,
   "id": "47e10364",
   "metadata": {},
   "outputs": [
    {
     "name": "stdout",
     "output_type": "stream",
     "text": [
      "['x_axis', 'y_axis']\n"
     ]
    }
   ],
   "source": [
    "# Load compressed arrays\n",
    "load_xy = np.load('x_y-squared.npz')\n",
    "print(load_xy.files)"
   ]
  },
  {
   "cell_type": "code",
   "execution_count": 8,
   "id": "2072a08b",
   "metadata": {},
   "outputs": [
    {
     "name": "stdout",
     "output_type": "stream",
     "text": [
      "Variable   Type       Data/Info\n",
      "-------------------------------\n",
      "load_xy    NpzFile    NpzFile 'x_y-squared.npz'<...>with keys: x_axis, y_axis\n",
      "np         module     <module 'numpy' from 'c:\\<...>ges\\\\numpy\\\\__init__.py'>\n"
     ]
    }
   ],
   "source": [
    "%whos"
   ]
  },
  {
   "cell_type": "code",
   "execution_count": 9,
   "id": "83905bd2",
   "metadata": {},
   "outputs": [
    {
     "name": "stdout",
     "output_type": "stream",
     "text": [
      "[0 1 2 3 4 5 6 7 8 9]\n",
      "[ 0  1  4  9 16 25 36 49 64 81]\n"
     ]
    }
   ],
   "source": [
    "# Retrieve arrays\n",
    "x = load_xy['x_axis']\n",
    "y = load_xy['y_axis']   \n",
    "print(x)\n",
    "print(y)"
   ]
  },
  {
   "cell_type": "markdown",
   "id": "eca92054",
   "metadata": {},
   "source": [
    "## Save arrays to human-readable csv"
   ]
  },
  {
   "cell_type": "code",
   "execution_count": 10,
   "id": "58070162",
   "metadata": {},
   "outputs": [
    {
     "name": "stdout",
     "output_type": "stream",
     "text": [
      "the output array has shape  (10, 2)  with values:\n",
      "[[ 0  0]\n",
      " [ 1  1]\n",
      " [ 2  4]\n",
      " [ 3  9]\n",
      " [ 4 16]\n",
      " [ 5 25]\n",
      " [ 6 36]\n",
      " [ 7 49]\n",
      " [ 8 64]\n",
      " [ 9 81]]\n"
     ]
    }
   ],
   "source": [
    "# Create 2D array from two 1D arrays\n",
    "array_out = np.block([x[:, np.newaxis], y[:, np.newaxis]])\n",
    "print(\"the output array has shape \", array_out.shape, \" with values:\")\n",
    "print(array_out)"
   ]
  },
  {
   "cell_type": "code",
   "execution_count": 12,
   "id": "179b91ac",
   "metadata": {},
   "outputs": [
    {
     "name": "stdout",
     "output_type": "stream",
     "text": [
      "# x, y\n",
      "0.000000000000000000e+00,0.000000000000000000e+00\n",
      "1.000000000000000000e+00,1.000000000000000000e+00\n",
      "2.000000000000000000e+00,4.000000000000000000e+00\n",
      "3.000000000000000000e+00,9.000000000000000000e+00\n",
      "4.000000000000000000e+00,1.600000000000000000e+01\n",
      "5.000000000000000000e+00,2.500000000000000000e+01\n",
      "6.000000000000000000e+00,3.600000000000000000e+01\n",
      "7.000000000000000000e+00,4.900000000000000000e+01\n",
      "8.000000000000000000e+00,6.400000000000000000e+01\n"
     ]
    }
   ],
   "source": [
    "# Save arrays to human-readable csv\n",
    "np.savetxt('x_y-squared.csv', X=array_out, header='x, y', delimiter=',')\n",
    "!head x_y-squared.csv"
   ]
  },
  {
   "cell_type": "code",
   "execution_count": 13,
   "id": "ad3b1254",
   "metadata": {},
   "outputs": [
    {
     "data": {
      "text/plain": [
       "(10, 2)"
      ]
     },
     "execution_count": 13,
     "metadata": {},
     "output_type": "execute_result"
    }
   ],
   "source": [
    "# Delete the arrays from memory\n",
    "del x, y\n",
    "# Load arrays from human-readable csv\n",
    "load_xy = np.loadtxt('x_y-squared.csv', delimiter=',')\n",
    "load_xy.shape"
   ]
  },
  {
   "cell_type": "code",
   "execution_count": 15,
   "id": "126f3fb6",
   "metadata": {},
   "outputs": [
    {
     "name": "stdout",
     "output_type": "stream",
     "text": [
      "[0. 1. 2. 3. 4. 5. 6. 7. 8. 9.]\n",
      "[ 0.  1.  4.  9. 16. 25. 36. 49. 64. 81.]\n"
     ]
    }
   ],
   "source": [
    "# Retrieve arrays\n",
    "x = load_xy[:, 0]\n",
    "y = load_xy[:, 1]   \n",
    "print(x)\n",
    "print(y)"
   ]
  }
 ],
 "metadata": {
  "kernelspec": {
   "display_name": ".venv",
   "language": "python",
   "name": "python3"
  },
  "language_info": {
   "codemirror_mode": {
    "name": "ipython",
    "version": 3
   },
   "file_extension": ".py",
   "mimetype": "text/x-python",
   "name": "python",
   "nbconvert_exporter": "python",
   "pygments_lexer": "ipython3",
   "version": "3.12.2"
  }
 },
 "nbformat": 4,
 "nbformat_minor": 5
}
